{
 "cells": [
  {
   "cell_type": "code",
   "execution_count": 8,
   "metadata": {
    "collapsed": true
   },
   "outputs": [],
   "source": [
    "from bokeh.io import curdoc\n",
    "from bokeh.models import ColumnDataSource,Slider,HoverTool,CategoricalColorMapper\n",
    "from bokeh.palettes import Spectral6\n",
    "from bokeh.plotting import figure\n",
    "from bokeh.layouts import row,widgetbox\n",
    "import pandas as pd\n",
    "import numpy as np\n",
    "data=pd.read_csv('gapminder_tidy.csv',index_col='Year')\n",
    "source=ColumnDataSource(data={\n",
    "    'x':data.loc[1970].fertility,\n",
    "    'y':data.loc[1970].life,\n",
    "    'country':data.loc[1970].Country,\n",
    "    'pop':(data.loc[1970].population/20000000)+2,\n",
    "    'region': data.loc[1970].region,\n",
    "})\n",
    "xmin,xmax=min(data.fertility),max(data.fertility)\n",
    "ymin,ymax=min(data.life),max(data.life)\n",
    "plot=figure(title='Case Study',plot_height=400,plot_width=700,x_range=(xmin,xmax),y_range=(ymin,ymax))\n",
    "\n",
    "#Some Shading\n",
    "region_list=list(np.unique(data.region))\n",
    "color_mapper=CategoricalColorMapper(factors=region_list,palette=Spectral6)\n",
    "plot.circle(x='x',y='y',fill_alpha=0.8,source=source,color=dict(field='region',transform=color_mapper),legend='region')\n",
    "\n",
    "#Labelling x axis and y axis\n",
    "plot.xaxis.axis_label = 'Fertility'\n",
    "plot.yaxis.axis_label = 'Life'\n",
    "\n",
    "#Defining a callback function++\n",
    "\n",
    "def update_plot(attr,old,new):\n",
    "    yr=slider.value\n",
    "    new_data={\n",
    "    'x':data.loc[yr].fertility,\n",
    "    'y':data.loc[yr].life,\n",
    "    'country':data.loc[yr].Country,\n",
    "    'pop':(data.loc[yr].population/20000000)+2,\n",
    "    'region': data.loc[yr].region,\n",
    "    }\n",
    "    source.data=new_data\n",
    "    plot.title.text='Gapminder data for %d' %yr\n",
    "\n",
    "#Adding Slider to the plot    \n",
    "    \n",
    "slider=Slider(title='My Year',start=1970,end=2010,step=1,value=1970)\n",
    "slider.on_change('value',update_plot)\n",
    "\n",
    "#Adding hovertool\n",
    "\n",
    "hover=HoverTool(tooltips=[('Country','@country')])\n",
    "plot.add_tools(hover)\n",
    "layout=row(widgetbox(slider),plot)\n",
    "curdoc().add_root(layout)\n"
   ]
  },
  {
   "cell_type": "code",
   "execution_count": null,
   "metadata": {
    "collapsed": true
   },
   "outputs": [],
   "source": []
  }
 ],
 "metadata": {
  "kernelspec": {
   "display_name": "Python 3",
   "language": "python",
   "name": "python3"
  },
  "language_info": {
   "codemirror_mode": {
    "name": "ipython",
    "version": 3
   },
   "file_extension": ".py",
   "mimetype": "text/x-python",
   "name": "python",
   "nbconvert_exporter": "python",
   "pygments_lexer": "ipython3",
   "version": "3.6.2"
  }
 },
 "nbformat": 4,
 "nbformat_minor": 2
}
